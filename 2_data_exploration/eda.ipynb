{
 "cells": [
  {
   "cell_type": "code",
   "execution_count": null,
   "id": "b489cb9e",
   "metadata": {},
   "outputs": [],
   "source": [
    "import numpy as np\n",
    "import pandas as pd\n",
    "\n",
    "train_set = pd.read_csv('./train.csv')"
   ]
  },
  {
   "cell_type": "markdown",
   "id": "d07912a0",
   "metadata": {},
   "source": [
    "# Context"
   ]
  },
  {
   "cell_type": "code",
   "execution_count": null,
   "id": "6b981d68",
   "metadata": {},
   "outputs": [],
   "source": [
    "# Getting first view of the date\n",
    "train_set.head()"
   ]
  },
  {
   "cell_type": "markdown",
   "id": "9b4320c6",
   "metadata": {},
   "source": [
    "# Data quality assessment"
   ]
  },
  {
   "cell_type": "code",
   "execution_count": null,
   "id": "e443ca82",
   "metadata": {},
   "outputs": [],
   "source": [
    "# Checking null-positive columns\n",
    "\n",
    "pd.isnull(train_set).sum()[pd.isnull(train_set).sum() > 0]"
   ]
  },
  {
   "cell_type": "code",
   "execution_count": null,
   "id": "0675e56f",
   "metadata": {},
   "outputs": [],
   "source": [
    "# Dropping non-representative columns\n",
    "\n",
    "del train_set['Ticket']\n",
    "del train_set['Cabin']\n",
    "del train_set['Embarked']"
   ]
  },
  {
   "cell_type": "code",
   "execution_count": null,
   "id": "c86ca632",
   "metadata": {},
   "outputs": [],
   "source": [
    "# Filling remain null values\n",
    "\n",
    "# Filling 'Fare'\n",
    "pclass_mean = train_set.groupby(\"Pclass\").mean()\n",
    "train_set['Fare'] = train_set['Fare'].fillna(train_set.groupby('Pclass')['Fare'].transform('mean'))\n",
    "\n",
    "# Filling 'Age'\n",
    "train_set['Age'].fillna(value=train_set['Age'].mean(), inplace=True)"
   ]
  },
  {
   "cell_type": "markdown",
   "id": "5408eca5",
   "metadata": {},
   "source": [
    "# Data exploration"
   ]
  },
  {
   "cell_type": "code",
   "execution_count": null,
   "id": "2417286d",
   "metadata": {},
   "outputs": [],
   "source": [
    "train_set.plot(kind=\"scatter\", x=\"Fare\", y=\"Pclass\", alpha=0.005, figsize=(20,15))"
   ]
  },
  {
   "cell_type": "code",
   "execution_count": null,
   "id": "007e2719",
   "metadata": {},
   "outputs": [],
   "source": [
    "%matplotlib inline\n",
    "import matplotlib.pyplot as plt\n",
    "\n",
    "train_set.hist(bins=50, figsize=(20,15))\n",
    "plt.show()"
   ]
  },
  {
   "cell_type": "code",
   "execution_count": null,
   "id": "c807d7e2",
   "metadata": {},
   "outputs": [],
   "source": [
    "corr_matrix = train_set.corr()\n",
    "corr_matrix[\"Survived\"].sort_values(ascending=False)"
   ]
  },
  {
   "cell_type": "code",
   "execution_count": null,
   "id": "dc161fb0",
   "metadata": {},
   "outputs": [],
   "source": [
    "train_set.plot(kind=\"scatter\", x=\"Fare\", y=\"Survived\", alpha=0.07,\n",
    "              s=train_set[\"Age\"] / 10, label=\"Age\", figsize=(20,15),\n",
    "              c= -train_set[\"Pclass\"], cmap=plt.get_cmap(\"jet\"), colorbar=True)"
   ]
  },
  {
   "cell_type": "markdown",
   "id": "034945c8",
   "metadata": {},
   "source": [
    "# Summary"
   ]
  },
  {
   "cell_type": "code",
   "execution_count": null,
   "id": "72e3fb13",
   "metadata": {},
   "outputs": [],
   "source": []
  }
 ],
 "metadata": {
  "kernelspec": {
   "display_name": "Python 3 (ipykernel)",
   "language": "python",
   "name": "python3"
  },
  "language_info": {
   "codemirror_mode": {
    "name": "ipython",
    "version": 3
   },
   "file_extension": ".py",
   "mimetype": "text/x-python",
   "name": "python",
   "nbconvert_exporter": "python",
   "pygments_lexer": "ipython3",
   "version": "3.8.0"
  },
  "toc": {
   "base_numbering": 1,
   "nav_menu": {},
   "number_sections": true,
   "sideBar": true,
   "skip_h1_title": false,
   "title_cell": "Table of Contents",
   "title_sidebar": "Contents",
   "toc_cell": false,
   "toc_position": {},
   "toc_section_display": true,
   "toc_window_display": false
  }
 },
 "nbformat": 4,
 "nbformat_minor": 5
}
